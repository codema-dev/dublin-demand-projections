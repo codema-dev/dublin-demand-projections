{
 "cells": [
  {
   "cell_type": "code",
   "execution_count": 1,
   "id": "removed-trinity",
   "metadata": {},
   "outputs": [
    {
     "name": "stdout",
     "output_type": "stream",
     "text": [
      "/home/oisindoherty3/Code/dublin-demand-projections\n"
     ]
    }
   ],
   "source": [
    "cd .."
   ]
  },
  {
   "cell_type": "code",
   "execution_count": 24,
   "id": "shared-creation",
   "metadata": {},
   "outputs": [],
   "source": [
    "import geopandas as gpd\n",
    "import pandas as pd\n",
    "import matplotlib.pyplot as plt"
   ]
  },
  {
   "cell_type": "code",
   "execution_count": 25,
   "id": "sticky-river",
   "metadata": {},
   "outputs": [],
   "source": [
    "demands = pd.read_csv(\"data/inputs/total_demands_sa.csv\")"
   ]
  },
  {
   "cell_type": "code",
   "execution_count": 63,
   "id": "speaking-cargo",
   "metadata": {},
   "outputs": [],
   "source": [
    "demands = gpd.GeoDataFrame(demands)"
   ]
  },
  {
   "cell_type": "code",
   "execution_count": 26,
   "id": "legislative-member",
   "metadata": {},
   "outputs": [],
   "source": [
    "sdcc = gpd.read_file(\"data/spatial/Development Plans Zoning/SDCC/LandUseZoning.shp\")"
   ]
  },
  {
   "cell_type": "code",
   "execution_count": 27,
   "id": "missing-speech",
   "metadata": {},
   "outputs": [],
   "source": [
    "sdcc_res = sdcc.loc[sdcc['d_Objectiv'] == \"Objective RES\"]"
   ]
  },
  {
   "cell_type": "code",
   "execution_count": 28,
   "id": "abstract-lease",
   "metadata": {},
   "outputs": [],
   "source": [
    "sdcc_res = gpd.GeoDataFrame(sdcc_res)"
   ]
  },
  {
   "cell_type": "code",
   "execution_count": 29,
   "id": "adjusted-qualification",
   "metadata": {},
   "outputs": [],
   "source": [
    "sdcc_res[\"area\"] = sdcc_res['geometry'].area/ 10**6"
   ]
  },
  {
   "cell_type": "code",
   "execution_count": 46,
   "id": "transparent-invasion",
   "metadata": {},
   "outputs": [],
   "source": [
    "tot_sdcc = sdcc_res[\"area\"].sum()"
   ]
  },
  {
   "cell_type": "code",
   "execution_count": 31,
   "id": "effective-hawaii",
   "metadata": {},
   "outputs": [],
   "source": [
    "dlr = gpd.read_file(\"data/spatial/Development Plans Zoning/DLR/UseZoningObjectivesDevPlan20162022.shp\")"
   ]
  },
  {
   "cell_type": "code",
   "execution_count": 32,
   "id": "amazing-hughes",
   "metadata": {},
   "outputs": [],
   "source": [
    "dlr_res = dlr.loc[(dlr['descriptio'] == \"A1 To provide for new residential communities in accordance with approved Local Area Plans.\") | (dlr['descriptio'] == \"A To protect and-or improve residential amenity.\")]"
   ]
  },
  {
   "cell_type": "code",
   "execution_count": 33,
   "id": "ongoing-tenant",
   "metadata": {},
   "outputs": [],
   "source": [
    "dlr_res = gpd.GeoDataFrame(dlr_res)"
   ]
  },
  {
   "cell_type": "code",
   "execution_count": 34,
   "id": "fantastic-correlation",
   "metadata": {},
   "outputs": [],
   "source": [
    "dlr_res[\"area\"] = dlr_res['geometry'].area/ 10**6"
   ]
  },
  {
   "cell_type": "code",
   "execution_count": 35,
   "id": "competitive-andorra",
   "metadata": {},
   "outputs": [],
   "source": [
    "tot_dlr = dlr_res[\"area\"].sum()"
   ]
  },
  {
   "cell_type": "code",
   "execution_count": 36,
   "id": "caring-liability",
   "metadata": {},
   "outputs": [],
   "source": [
    "dcc = gpd.read_file(\"data/spatial/Development Plans Zoning/DCC/dccdevelopmentplanp20141002-1159.shp\")"
   ]
  },
  {
   "cell_type": "code",
   "execution_count": 37,
   "id": "earned-mother",
   "metadata": {},
   "outputs": [],
   "source": [
    "dcc_res = dcc.loc[dcc['ZONE_DESC'] == \"To protect, provide and improve residential amenities.\"]"
   ]
  },
  {
   "cell_type": "code",
   "execution_count": 38,
   "id": "functional-episode",
   "metadata": {},
   "outputs": [],
   "source": [
    "dcc_res[\"area\"] = dcc_res['geometry'].area/ 10**6"
   ]
  },
  {
   "cell_type": "code",
   "execution_count": 39,
   "id": "timely-quality",
   "metadata": {},
   "outputs": [],
   "source": [
    "tot_dcc = dcc_res[\"area\"].sum()"
   ]
  },
  {
   "cell_type": "code",
   "execution_count": 40,
   "id": "contemporary-introduction",
   "metadata": {},
   "outputs": [],
   "source": [
    "fingal = gpd.read_file(\"data/spatial/Development Plans Zoning/FingalDevPlan2017-2023/Zoning_Objective.shp\")"
   ]
  },
  {
   "cell_type": "code",
   "execution_count": 41,
   "id": "substantial-racing",
   "metadata": {},
   "outputs": [],
   "source": [
    "fingal_res = fingal.loc[(fingal['Obj_Desc'] == \"Provide for residential development and protect and improve residential amenity\") | (fingal['Obj_Desc'] == \"Provide for new residential communities subject to the provision of the necessary social and physical infrastructure\")]"
   ]
  },
  {
   "cell_type": "code",
   "execution_count": 42,
   "id": "forward-appendix",
   "metadata": {},
   "outputs": [],
   "source": [
    "fingal_res[\"area\"] = dcc_res['geometry'].area/ 10**6"
   ]
  },
  {
   "cell_type": "code",
   "execution_count": 43,
   "id": "damaged-example",
   "metadata": {},
   "outputs": [],
   "source": [
    "tot_fingal = fingal_res[\"area\"].sum()"
   ]
  },
  {
   "cell_type": "code",
   "execution_count": 44,
   "id": "ignored-career",
   "metadata": {},
   "outputs": [
    {
     "data": {
      "text/plain": [
       "17.329188382008333"
      ]
     },
     "execution_count": 44,
     "metadata": {},
     "output_type": "execute_result"
    }
   ],
   "source": [
    "tot_fingal"
   ]
  },
  {
   "cell_type": "code",
   "execution_count": 47,
   "id": "employed-obligation",
   "metadata": {},
   "outputs": [],
   "source": [
    "tot_dub = tot_sdcc + tot_dcc + tot_dlr + tot_fingal"
   ]
  },
  {
   "cell_type": "code",
   "execution_count": 49,
   "id": "married-little",
   "metadata": {},
   "outputs": [],
   "source": [
    "data = [[\"dublin\", tot_dub], [\"sdcc\", tot_sdcc], [\"dcc\", tot_dcc], [\"dlr\", tot_dlr], [\"fingal\", tot_fingal]]"
   ]
  },
  {
   "cell_type": "code",
   "execution_count": 50,
   "id": "acknowledged-campus",
   "metadata": {},
   "outputs": [],
   "source": [
    "df = pd.DataFrame(data, columns = ['local_authority', 'resi_area_sqkm']) "
   ]
  },
  {
   "cell_type": "code",
   "execution_count": 52,
   "id": "controversial-jewelry",
   "metadata": {},
   "outputs": [],
   "source": [
    "df[\"resi_portion\"] = df[\"resi_area_sqkm\"] / 124.674871"
   ]
  },
  {
   "cell_type": "code",
   "execution_count": 56,
   "id": "improving-universe",
   "metadata": {},
   "outputs": [
    {
     "data": {
      "text/html": [
       "<div>\n",
       "<style scoped>\n",
       "    .dataframe tbody tr th:only-of-type {\n",
       "        vertical-align: middle;\n",
       "    }\n",
       "\n",
       "    .dataframe tbody tr th {\n",
       "        vertical-align: top;\n",
       "    }\n",
       "\n",
       "    .dataframe thead th {\n",
       "        text-align: right;\n",
       "    }\n",
       "</style>\n",
       "<table border=\"1\" class=\"dataframe\">\n",
       "  <thead>\n",
       "    <tr style=\"text-align: right;\">\n",
       "      <th></th>\n",
       "      <th>local_authority</th>\n",
       "      <th>resi_area_sqkm</th>\n",
       "      <th>resi_portion</th>\n",
       "    </tr>\n",
       "  </thead>\n",
       "  <tbody>\n",
       "    <tr>\n",
       "      <th>0</th>\n",
       "      <td>dublin</td>\n",
       "      <td>124.674871</td>\n",
       "      <td>1.000000</td>\n",
       "    </tr>\n",
       "    <tr>\n",
       "      <th>1</th>\n",
       "      <td>sdcc</td>\n",
       "      <td>28.505410</td>\n",
       "      <td>0.228638</td>\n",
       "    </tr>\n",
       "    <tr>\n",
       "      <th>2</th>\n",
       "      <td>dcc</td>\n",
       "      <td>37.746748</td>\n",
       "      <td>0.302761</td>\n",
       "    </tr>\n",
       "    <tr>\n",
       "      <th>3</th>\n",
       "      <td>dlr</td>\n",
       "      <td>41.093525</td>\n",
       "      <td>0.329606</td>\n",
       "    </tr>\n",
       "    <tr>\n",
       "      <th>4</th>\n",
       "      <td>fingal</td>\n",
       "      <td>17.329188</td>\n",
       "      <td>0.138995</td>\n",
       "    </tr>\n",
       "  </tbody>\n",
       "</table>\n",
       "</div>"
      ],
      "text/plain": [
       "  local_authority  resi_area_sqkm  resi_portion\n",
       "0          dublin      124.674871      1.000000\n",
       "1            sdcc       28.505410      0.228638\n",
       "2             dcc       37.746748      0.302761\n",
       "3             dlr       41.093525      0.329606\n",
       "4          fingal       17.329188      0.138995"
      ]
     },
     "execution_count": 56,
     "metadata": {},
     "output_type": "execute_result"
    }
   ],
   "source": [
    "df"
   ]
  },
  {
   "cell_type": "code",
   "execution_count": 61,
   "id": "configured-plastic",
   "metadata": {},
   "outputs": [],
   "source": [
    "la = gpd.read_file(\"data/spatial/admin/0b3cbe50-ea67-467b-adb6-f3d9d3aaa43a2020329-1-f7bsff.bn1f.shp\")"
   ]
  },
  {
   "cell_type": "code",
   "execution_count": null,
   "id": "under-symphony",
   "metadata": {},
   "outputs": [],
   "source": []
  }
 ],
 "metadata": {
  "kernelspec": {
   "display_name": "Python 3",
   "language": "python",
   "name": "python3"
  },
  "language_info": {
   "codemirror_mode": {
    "name": "ipython",
    "version": 3
   },
   "file_extension": ".py",
   "mimetype": "text/x-python",
   "name": "python",
   "nbconvert_exporter": "python",
   "pygments_lexer": "ipython3",
   "version": "3.7.9"
  }
 },
 "nbformat": 4,
 "nbformat_minor": 5
}
