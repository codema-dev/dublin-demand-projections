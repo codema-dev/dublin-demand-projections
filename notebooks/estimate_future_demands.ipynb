{
 "cells": [
  {
   "cell_type": "code",
   "execution_count": 7,
   "id": "removed-trinity",
   "metadata": {},
   "outputs": [
    {
     "name": "stdout",
     "output_type": "stream",
     "text": [
      "/home/oisindoherty3/Code/dublin-demand-projections\n"
     ]
    }
   ],
   "source": [
    "cd .."
   ]
  },
  {
   "cell_type": "code",
   "execution_count": 8,
   "id": "shared-creation",
   "metadata": {},
   "outputs": [],
   "source": [
    "import geopandas as gpd\n",
    "import pandas as pd\n",
    "import matplotlib.pyplot as plt"
   ]
  },
  {
   "cell_type": "code",
   "execution_count": 9,
   "id": "sticky-river",
   "metadata": {},
   "outputs": [],
   "source": [
    "demands = pd.read_csv(\"data/inputs/total_demands_sa.csv\")"
   ]
  },
  {
   "cell_type": "code",
   "execution_count": 10,
   "id": "legislative-member",
   "metadata": {},
   "outputs": [],
   "source": [
    "sdcc = gpd.read_file(\"data/spatial/Development Plans Zoning/SDCC/LandUseZoning.shp\")"
   ]
  },
  {
   "cell_type": "code",
   "execution_count": 23,
   "id": "missing-speech",
   "metadata": {},
   "outputs": [],
   "source": [
    "sdcc_res = sdcc.loc[sdcc['d_Objectiv'] == \"Objective RES\"]"
   ]
  },
  {
   "cell_type": "code",
   "execution_count": 24,
   "id": "abstract-lease",
   "metadata": {},
   "outputs": [],
   "source": [
    "sdcc_res = gpd.GeoDataFrame(sdcc_res)"
   ]
  },
  {
   "cell_type": "code",
   "execution_count": 25,
   "id": "adjusted-qualification",
   "metadata": {},
   "outputs": [],
   "source": [
    "sdcc_res[\"area\"] = sdcc_res['geometry'].area/ 10**6"
   ]
  },
  {
   "cell_type": "code",
   "execution_count": 27,
   "id": "transparent-invasion",
   "metadata": {},
   "outputs": [
    {
     "data": {
      "text/plain": [
       "28.50541016002746"
      ]
     },
     "execution_count": 27,
     "metadata": {},
     "output_type": "execute_result"
    }
   ],
   "source": [
    "sdcc_res[\"area\"].sum()"
   ]
  },
  {
   "cell_type": "code",
   "execution_count": 28,
   "id": "effective-hawaii",
   "metadata": {},
   "outputs": [],
   "source": [
    "dlr = gpd.read_file(\"data/spatial/Development Plans Zoning/DLR/UseZoningObjectivesDevPlan20162022.shp\")"
   ]
  },
  {
   "cell_type": "code",
   "execution_count": 41,
   "id": "amazing-hughes",
   "metadata": {},
   "outputs": [],
   "source": [
    "dlr_res = dlr.loc[(dlr['descriptio'] == \"A1 To provide for new residential communities in accordance with approved Local Area Plans.\") | (dlr['descriptio'] == \"A To protect and-or improve residential amenity.\")]"
   ]
  },
  {
   "cell_type": "code",
   "execution_count": 42,
   "id": "ongoing-tenant",
   "metadata": {},
   "outputs": [],
   "source": [
    "dlr_res = gpd.GeoDataFrame(dlr_res)"
   ]
  },
  {
   "cell_type": "code",
   "execution_count": 43,
   "id": "fantastic-correlation",
   "metadata": {},
   "outputs": [],
   "source": [
    "dlr_res[\"area\"] = dlr_res['geometry'].area/ 10**6"
   ]
  },
  {
   "cell_type": "code",
   "execution_count": 44,
   "id": "competitive-andorra",
   "metadata": {},
   "outputs": [
    {
     "data": {
      "text/plain": [
       "41.093524717367984"
      ]
     },
     "execution_count": 44,
     "metadata": {},
     "output_type": "execute_result"
    }
   ],
   "source": [
    "dlr_res[\"area\"].sum()"
   ]
  },
  {
   "cell_type": "code",
   "execution_count": 45,
   "id": "caring-liability",
   "metadata": {},
   "outputs": [],
   "source": [
    "dcc = gpd.read_file(\"data/spatial/Development Plans Zoning/DCC/dccdevelopmentplanp20141002-1159.shp\")"
   ]
  },
  {
   "cell_type": "code",
   "execution_count": 49,
   "id": "earned-mother",
   "metadata": {},
   "outputs": [],
   "source": [
    "dcc_res = dcc.loc[dcc['ZONE_DESC'] == \"To protect, provide and improve residential amenities.\"]"
   ]
  },
  {
   "cell_type": "code",
   "execution_count": 51,
   "id": "functional-episode",
   "metadata": {},
   "outputs": [
    {
     "name": "stderr",
     "output_type": "stream",
     "text": [
      "/home/oisindoherty3/.local/lib/python3.7/site-packages/geopandas/geodataframe.py:1322: SettingWithCopyWarning: \n",
      "A value is trying to be set on a copy of a slice from a DataFrame.\n",
      "Try using .loc[row_indexer,col_indexer] = value instead\n",
      "\n",
      "See the caveats in the documentation: https://pandas.pydata.org/pandas-docs/stable/user_guide/indexing.html#returning-a-view-versus-a-copy\n",
      "  super(GeoDataFrame, self).__setitem__(key, value)\n"
     ]
    }
   ],
   "source": [
    "dcc_res[\"area\"] = dcc_res['geometry'].area/ 10**6"
   ]
  },
  {
   "cell_type": "code",
   "execution_count": 52,
   "id": "timely-quality",
   "metadata": {},
   "outputs": [
    {
     "data": {
      "text/plain": [
       "37.74674802388565"
      ]
     },
     "execution_count": 52,
     "metadata": {},
     "output_type": "execute_result"
    }
   ],
   "source": [
    "dcc_res[\"area\"].sum()"
   ]
  },
  {
   "cell_type": "code",
   "execution_count": 53,
   "id": "contemporary-introduction",
   "metadata": {},
   "outputs": [],
   "source": [
    "fingal = gpd.read_file(\"data/spatial/Development Plans Zoning/FingalDevPlan2017-2023/Zoning_Objective.shp\")"
   ]
  },
  {
   "cell_type": "code",
   "execution_count": 60,
   "id": "binding-concern",
   "metadata": {},
   "outputs": [
    {
     "data": {
      "text/plain": [
       "Provide for residential development and protect and improve residential amenity                                                                                                                                                     2144\n",
       "Preserve and provide for open space and recreational amenities                                                                                                                                                                      1816\n",
       "Protect and promote in a balanced way, the development of agriculture and rural related enterprise, biodiversity, the rural landscape, and the built and cultural heritage                                                           177\n",
       "Protect and enhance high amenity areas                                                                                                                                                                                               172\n",
       "Protect and enhance the special physical and social character of town and district centres and provide and/ or improve urban facilities                                                                                              140\n",
       "Provide for and protect civic, religious, community, education, health care and social infrastructure                                                                                                                                118\n",
       "Provide opportunities for general enterprise and employment                                                                                                                                                                          101\n",
       "Protect and provide for a Greenbelt                                                                                                                                                                                                   89\n",
       "Provide for small scale infill development serving local needs while maintaining the rural nature of the cluster                                                                                                                      76\n",
       "Provide for new residential communities subject to the provision of the necessary social and physical infrastructure                                                                                                                  74\n",
       "Protect, provide for and/or improve local centre facilities                                                                                                                                                                           66\n",
       "Protect and promote the character of the Rural Village and promote a vibrant community in accordance with an approved Local Area Plan, and the availability of physical and community infrastructure                                  65\n",
       "Protect, provide for and/ or improve major town centre facilities                                                                                                                                                                     58\n",
       "Existing Main Line Rail                                                                                                                                                                                                               47\n",
       "Provide for office, research and development and high technology/high technology manufacturing type employment in a high quality built and landscaped environment                                                                     36\n",
       "ROAD                                                                                                                                                                                                                                  35\n",
       "Ensure the efficient and effective operation and development of the airport in Accordance with an approved Local Area Plan                                                                                                            26\n",
       "Facilitate opportunities for high density mixed use employment generating activity and commercial development, and support the provision of an appropriate quantum of residential development within the Metro Economic Corridor      24\n",
       "Provide for and facilitate rural-related business which has a demonstrated need for a rural location                                                                                                                                  13\n",
       "Protect and promote the character of the Rural Village and promote a vibrant community in accordance with an approved local area plan, and the availability of physical and community infrastructure                                   5\n",
       "Provide for and facilitate the development of a Food Industry Park                                                                                                                                                                     4\n",
       "Provide for retail warehousing development                                                                                                                                                                                             4\n",
       "Provide for distribution, warehouse, storage and logistics facilities which require good access to a major road network within a good quality environment                                                                              2\n",
       "Protect and enhance the special physical and social character of town and district centres and provide and/or improve urban facilities                                                                                                 1\n",
       "Protect and provide for a Green Belt                                                                                                                                                                                                   1\n",
       "Provide for heavy industry                                                                                                                                                                                                             1\n",
       "Name: Obj_Desc, dtype: int64"
      ]
     },
     "execution_count": 60,
     "metadata": {},
     "output_type": "execute_result"
    }
   ],
   "source": [
    "fingal[\"Obj_Desc\"].value_counts()"
   ]
  },
  {
   "cell_type": "code",
   "execution_count": 56,
   "id": "substantial-racing",
   "metadata": {},
   "outputs": [],
   "source": [
    "fingal_res = fingal.loc[(fingal['Obj_Desc'] == \"Provide for residential development and protect and improve residential amenity\") | (fingal['Obj_Desc'] == \"Provide for new residential communities subject to the provision of the necessary social and physical infrastructure\")]"
   ]
  },
  {
   "cell_type": "code",
   "execution_count": 58,
   "id": "forward-appendix",
   "metadata": {},
   "outputs": [
    {
     "name": "stderr",
     "output_type": "stream",
     "text": [
      "/home/oisindoherty3/.local/lib/python3.7/site-packages/geopandas/geodataframe.py:1322: SettingWithCopyWarning: \n",
      "A value is trying to be set on a copy of a slice from a DataFrame.\n",
      "Try using .loc[row_indexer,col_indexer] = value instead\n",
      "\n",
      "See the caveats in the documentation: https://pandas.pydata.org/pandas-docs/stable/user_guide/indexing.html#returning-a-view-versus-a-copy\n",
      "  super(GeoDataFrame, self).__setitem__(key, value)\n"
     ]
    }
   ],
   "source": [
    "fingal_res[\"area\"] = dcc_res['geometry'].area/ 10**6"
   ]
  },
  {
   "cell_type": "code",
   "execution_count": 59,
   "id": "damaged-example",
   "metadata": {},
   "outputs": [
    {
     "data": {
      "text/plain": [
       "17.329188382008333"
      ]
     },
     "execution_count": 59,
     "metadata": {},
     "output_type": "execute_result"
    }
   ],
   "source": [
    "fingal_res[\"area\"].sum()"
   ]
  },
  {
   "cell_type": "code",
   "execution_count": null,
   "id": "ignored-career",
   "metadata": {},
   "outputs": [],
   "source": []
  }
 ],
 "metadata": {
  "kernelspec": {
   "display_name": "Python 3",
   "language": "python",
   "name": "python3"
  },
  "language_info": {
   "codemirror_mode": {
    "name": "ipython",
    "version": 3
   },
   "file_extension": ".py",
   "mimetype": "text/x-python",
   "name": "python",
   "nbconvert_exporter": "python",
   "pygments_lexer": "ipython3",
   "version": "3.7.9"
  }
 },
 "nbformat": 4,
 "nbformat_minor": 5
}
